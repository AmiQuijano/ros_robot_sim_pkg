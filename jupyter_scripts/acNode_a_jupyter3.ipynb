{
 "cells": [
  {
   "cell_type": "markdown",
   "id": "65c0b652",
   "metadata": {},
   "source": [
    "# Research Track 2 - Assignment 2\n",
    "## Jupyter on Node (a) of ros_robot_sim_pkg\n",
    "### Ami Sofia Quijano Shimizu"
   ]
  },
  {
   "cell_type": "markdown",
   "id": "647964e6",
   "metadata": {},
   "source": [
    "### This Notebook contains:\n",
    "* An interface to assign (or cancel) goals to the robot\n",
    "* Visualization of current robot position, sent targets, cancelled targets and reached targets\n",
    "* A plot with the robot’s position and targets’ positions in the environment\n",
    "* A plot for the number of reached/not-reached targets"
   ]
  },
  {
   "cell_type": "markdown",
   "id": "cb63f113",
   "metadata": {},
   "source": [
    "### Useful imports"
   ]
  },
  {
   "cell_type": "code",
   "execution_count": 1,
   "id": "0893bc84",
   "metadata": {},
   "outputs": [],
   "source": [
    "%matplotlib notebook\n",
    "import rospy\n",
    "import actionlib\n",
    "import actionlib.msg\n",
    "import ipywidgets as widgets\n",
    "import matplotlib.pyplot as plt\n",
    "import numpy as np\n",
    "\n",
    "from matplotlib.animation import FuncAnimation\n",
    "from IPython.display import display, clear_output\n",
    "from nav_msgs.msg import Odometry\n",
    "from ros_robot_sim_pkg.msg import PlanningAction, PlanningGoal, PlanningFeedback "
   ]
  },
  {
   "cell_type": "markdown",
   "id": "15a4b068",
   "metadata": {},
   "source": [
    "### Creation of Widgets"
   ]
  },
  {
   "cell_type": "code",
   "execution_count": 2,
   "id": "fe150765",
   "metadata": {},
   "outputs": [],
   "source": [
    "# Widget for X coordinate input \n",
    "x_input = widgets.FloatText(description = 'Target X (flt):', \n",
    "                            layout = widgets.Layout(height = '30px', width = '150px'))\n",
    "\n",
    "# Widget for Y coordinate input \n",
    "y_input = widgets.FloatText(description = 'Target Y (flt):',\n",
    "                           layout = widgets.Layout(height = '30px', width = '150px'))\n",
    "\n",
    "# Widget for entering the X Y coordinates\n",
    "send_button = widgets.Button(description = 'Send Target')\n",
    "\n",
    "# Widget for cancelling the goal\n",
    "cancel_button = widgets.Button(description = 'Cancel Target')\n",
    "\n",
    "# Widget for displaying user Log\n",
    "log_info = widgets.Text(description = 'Log info', disabled = True,\n",
    "                       layout = widgets.Layout(height = '30px', width = '270px'))\n",
    "\n",
    "# Widget for displaying Current position and Status of robot\n",
    "robot_pos = widgets.Textarea(description = 'Robot Pos:', disabled = True, \n",
    "                              layout = widgets.Layout(height = '50px', width = '350px')) \n",
    "\n",
    "# Widget for displaying Targets sent\n",
    "sent_info = widgets.Textarea(description = 'Sent:', disabled = True, \n",
    "                              layout = widgets.Layout(height = '100px', width = '170px')) \n",
    "\n",
    "# Widget for displaying Targets cancelled\n",
    "cancelled_info = widgets.Textarea(description = 'Cancelled:', disabled = True, \n",
    "                              layout = widgets.Layout(height = '100px', width = '170px')) \n",
    "\n",
    "# Widget for displaying Targets reached\n",
    "reached_info = widgets.Textarea(description = 'Reached:', disabled = True, \n",
    "                              layout = widgets.Layout(height = '100px', width = '170px')) \n",
    "\n",
    "# Widget for displaying Plot of reached vs cancelled targets\n",
    "target_graph = widgets.Output()\n",
    "\n",
    "# Widget for displaying Plot of trajectory\n",
    "traj_graph = widgets.Output()"
   ]
  },
  {
   "cell_type": "markdown",
   "id": "8a34fc7b",
   "metadata": {},
   "source": [
    "### Function for sending the goal coordinates"
   ]
  },
  {
   "cell_type": "code",
   "execution_count": 3,
   "id": "69aa5e79",
   "metadata": {},
   "outputs": [],
   "source": [
    "def send_goal(_):\n",
    "    # Allocate the X and Y goal coordinates in PlanningGoal() action message from user input\n",
    "    goal.target_pose.pose.position.x = x_input.value\n",
    "    goal.target_pose.pose.position.y = y_input.value\n",
    "\n",
    "    # Send the goal to the action-server\n",
    "    action_client.send_goal(goal)\n",
    "    \n",
    "    # Fill widgets with Log info and Sent target coordinates\n",
    "    log_info.value = 'Target coordinates sent!'\n",
    "    sent_info.value += f'({x_input.value}, {y_input.value})\\n'"
   ]
  },
  {
   "cell_type": "markdown",
   "id": "c4195b18",
   "metadata": {},
   "source": [
    "### Function for cancelling current goal"
   ]
  },
  {
   "cell_type": "code",
   "execution_count": 4,
   "id": "877b4a83",
   "metadata": {},
   "outputs": [],
   "source": [
    "def cancel_target(_):\n",
    "    global target_active, targets_cancelled_count\n",
    "    \n",
    "    # If moving towards target\n",
    "    if target_active:\n",
    "        # Cancel current goal\n",
    "        action_client.cancel_goal()\n",
    "        \n",
    "        # Add 1 to the total # of targets cancelled\n",
    "        targets_cancelled_count += 1\n",
    "        \n",
    "        # Fill widgets with Log info and Cancelled target coordinates\n",
    "        log_info.value = 'Target cancelled!'\n",
    "        cancelled_info.value += f'({x_input.value}, {y_input.value})\\n'\n",
    "        \n",
    "        plot_targets()\n",
    "    \n",
    "    # If not moving towards target (was cancelled or reached), fill widget with Log info\n",
    "    else:\n",
    "        log_info.value = 'No active target to cancel'"
   ]
  },
  {
   "cell_type": "markdown",
   "id": "1d33c6be",
   "metadata": {},
   "source": [
    "### Callback function of /reaching_goal/feedback"
   ]
  },
  {
   "cell_type": "code",
   "execution_count": 5,
   "id": "ff457897",
   "metadata": {},
   "outputs": [],
   "source": [
    "def feedback_callback(feedback_msg):\n",
    "    global targets_reached_count, target_active\n",
    "    \n",
    "    # Allocate X and Y positions and Status obtained from /reaching_goal/feedback\n",
    "    pos_x = feedback_msg.feedback.actual_pose.position.x\n",
    "    pos_y = feedback_msg.feedback.actual_pose.position.y\n",
    "    status = feedback_msg.feedback.stat\n",
    "    \n",
    "    # Fill widget with Robot's X and Y positions\n",
    "    robot_pos.value = f\"CURRENT X: {pos_x} \\nCURRENT Y: {pos_y}\"  \n",
    "    \n",
    "    # If target has been reached,\n",
    "    if status == 'Target reached!':\n",
    "        # Set flag as False\n",
    "        target_active = False\n",
    "        \n",
    "        # Add 1 to the total # of targets reached\n",
    "        targets_reached_count += 1\n",
    "        \n",
    "        # Fill widgets with Log info and Reached target coordinates\n",
    "        log_info.value = status\n",
    "        reached_info.value += f'({x_input.value}, {y_input.value})\\n'\n",
    "        \n",
    "        plot_targets()\n",
    "        \n",
    "    # If target has been cancelled, set flag as False\n",
    "    elif status == 'Target cancelled!':\n",
    "        target_active = False\n",
    "    \n",
    "    # If target is still being reached by robot, set flag as True\n",
    "    else:\n",
    "        target_active = True"
   ]
  },
  {
   "cell_type": "markdown",
   "id": "c4b3c0ae",
   "metadata": {},
   "source": [
    "### Callback function of /odom"
   ]
  },
  {
   "cell_type": "code",
   "execution_count": 6,
   "id": "2de2a326",
   "metadata": {},
   "outputs": [],
   "source": [
    "def odom_callback(odom_msg):\n",
    "    global traj_x, traj_y\n",
    "   \n",
    "    # Append robot trajectory coordinates\n",
    "    traj_x.append(odom_msg.pose.pose.position.x)\n",
    "    traj_y.append(odom_msg.pose.pose.position.y)"
   ]
  },
  {
   "cell_type": "markdown",
   "id": "f9d09a6e",
   "metadata": {},
   "source": [
    "### Function for plotting Reached vs Cancelled targets"
   ]
  },
  {
   "cell_type": "code",
   "execution_count": 7,
   "id": "207dcc1e",
   "metadata": {},
   "outputs": [],
   "source": [
    "def plot_targets():\n",
    "    global targets_reached_count, targets_cancelled_count\n",
    "    \n",
    "    # Clear the previous output\n",
    "    target_graph.clear_output(wait = True)\n",
    "    \n",
    "    # Set bar graph and size\n",
    "    fig, ax = plt.subplots(figsize = (2.5,4))\n",
    "    \n",
    "    # Set parameters\n",
    "    ax.bar(['Reached', 'Cancelled'], [targets_reached_count, targets_cancelled_count], \n",
    "           color = ['green', 'red'])\n",
    "    ax.set_xlabel('Target Status', fontsize = 9)\n",
    "    ax.set_ylabel('Count', fontsize = 9)\n",
    "    ax.set_title('Reached vs Cancelled Targets', fontsize = 10)\n",
    "    ax.tick_params(axis='both', which='major', labelsize = 9)\n",
    "    ax.grid(True)\n",
    "    \n",
    "    # Set interval size limits\n",
    "    max_count = max(targets_reached_count, targets_cancelled_count)\n",
    "    ax.set_ylim(0, max_count * 1.1)\n",
    "    tick_interval = max(1, max_count //5)\n",
    "    ax.yaxis.set_major_locator(plt.MultipleLocator(tick_interval))\n",
    "    \n",
    "    # Display plot\n",
    "    with target_graph:\n",
    "        plt.show()"
   ]
  },
  {
   "cell_type": "markdown",
   "id": "5eb029de",
   "metadata": {},
   "source": [
    "### Function for plotting Robot Position"
   ]
  },
  {
   "cell_type": "code",
   "execution_count": 8,
   "id": "a7fdb492",
   "metadata": {},
   "outputs": [],
   "source": [
    "def update_plot(frame):\n",
    "    global traj_x, traj_y\n",
    "    \n",
    "    print(\"Updating plot with frame:\", frame)\n",
    "    \n",
    "    # Set plot\n",
    "    line.set_data(traj_x[:frame], traj_y[:frame])\n",
    "    \n",
    "    # Clear previous output\n",
    "    #traj_graph.clear_output(wait = True)\n",
    "    \n",
    "    #with traj_graph:\n",
    "    #    plt.show()\n",
    "   \n",
    "    return line,"
   ]
  },
  {
   "cell_type": "markdown",
   "id": "14a3d8e4",
   "metadata": {},
   "source": [
    "### Main"
   ]
  },
  {
   "cell_type": "code",
   "execution_count": 9,
   "id": "26d403ec",
   "metadata": {
    "scrolled": false
   },
   "outputs": [
    {
     "data": {
      "image/png": "[encoded data removed]",
      "text/plain": [
       "<Figure size 640x480 with 1 Axes>"
      ]
     },
     "metadata": {},
     "output_type": "display_data"
    }
   ],
   "source": [
    "# Initialize node\n",
    "rospy.init_node('node_jupyter')\n",
    "\n",
    "ani = None\n",
    "\n",
    "# Create an action-client for /reaching_goal server with action message Planning\n",
    "action_client = actionlib.SimpleActionClient('/reaching_goal', PlanningAction)\n",
    "\n",
    "# Create a subscriber for the action-server feedback for having current position and status\n",
    "subscriber1 = rospy.Subscriber('/reaching_goal/feedback', PlanningFeedback, feedback_callback) \n",
    "\n",
    "# Create a subscriber for the action-server feedback for having current position and status\n",
    "subscriber2 = rospy.Subscriber('/odom', Odometry, odom_callback) \n",
    "\n",
    "# Create the goal object of Planning to send to the action-server\n",
    "goal = PlanningGoal()\n",
    "\n",
    "# Initialize counters for reached and cancelled targets\n",
    "targets_reached_count = 0\n",
    "targets_cancelled_count = 0\n",
    "\n",
    "# Initialize flag: indicates if robot is still reaching the target or not anymore\n",
    "target_active = False\n",
    "\n",
    "traj_x = []\n",
    "traj_y = []\n",
    "\n",
    "# Call send_goal() when send_button is pressed\n",
    "#+send_button.on_click(send_goal)\n",
    "\n",
    "# Call cancel_goal() when cancel_button is pressed\n",
    "#cancel_button.on_click(cancel_target)\n",
    "\n",
    "# Display widgets\n",
    "#display(widgets.VBox([widgets.HBox([x_input, y_input, send_button, cancel_button]), \n",
    "#                      widgets.HBox([log_info, robot_pos]),\n",
    "#                      widgets.HBox([sent_info, cancelled_info, reached_info]),\n",
    "#                      widgets.HBox([target_graph, traj_graph])]))\n",
    "\n",
    "\n",
    "fig, ax = plt.subplots()\n",
    "line, = ax.plot([], [], 'ro')\n",
    "ax.set_xlim(-12, 12)\n",
    "ax.set_ylim(-12, 12)\n",
    "ax.set_xlabel('X')\n",
    "ax.set_ylabel('Y')\n",
    "\n",
    "ani = FuncAnimation(fig, update_plot, frames=len(traj_x), interval=100)\n",
    "plt.show(block=True)\n",
    "\n",
    "# Stop node when Jupyter shuts down\n",
    "rospy.on_shutdown(rospy.signal_shutdown)"
   ]
  },
  {
   "cell_type": "code",
   "execution_count": null,
   "id": "0bd0e205",
   "metadata": {},
   "outputs": [],
   "source": []
  }
 ],
 "metadata": {
  "kernelspec": {
   "display_name": "Python 3 (ipykernel)",
   "language": "python",
   "name": "python3"
  },
  "language_info": {
   "codemirror_mode": {
    "name": "ipython",
    "version": 3
   },
   "file_extension": ".py",
   "mimetype": "text/x-python",
   "name": "python",
   "nbconvert_exporter": "python",
   "pygments_lexer": "ipython3",
   "version": "3.8.10"
  },
  "varInspector": {
   "cols": {
    "lenName": 16,
    "lenType": 16,
    "lenVar": 40
   },
   "kernels_config": {
    "python": {
     "delete_cmd_postfix": "",
     "delete_cmd_prefix": "del ",
     "library": "var_list.py",
     "varRefreshCmd": "print(var_dic_list())"
    },
    "r": {
     "delete_cmd_postfix": ") ",
     "delete_cmd_prefix": "rm(",
     "library": "var_list.r",
     "varRefreshCmd": "cat(var_dic_list()) "
    }
   },
   "types_to_exclude": [
    "module",
    "function",
    "builtin_function_or_method",
    "instance",
    "_Feature"
   ],
   "window_display": false
  }
 },
 "nbformat": 4,
 "nbformat_minor": 5
}
