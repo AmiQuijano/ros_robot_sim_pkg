{
 "cells": [
  {
   "cell_type": "markdown",
   "id": "0f638b92",
   "metadata": {},
   "source": [
    "# Research Track 2 - Assignment 2\n",
    "## Jupyter on Node (a) of ros_robot_sim_pkg\n",
    "### Ami Sofia Quijano Shimizu"
   ]
  },
  {
   "cell_type": "markdown",
   "id": "a1b0edfe",
   "metadata": {},
   "source": [
    "### This Notebook contains:\n",
    "* An interface to assign (or cancel) goals to the robot\n",
    "* A plot with the robot’s position and targets’ positions in the environment\n",
    "* A plot for the number of reached/not-reached targets"
   ]
  },
  {
   "cell_type": "markdown",
   "id": "db4af91d",
   "metadata": {},
   "source": [
    "### Useful imports"
   ]
  },
  {
   "cell_type": "code",
   "execution_count": 1,
   "id": "2e703ffa",
   "metadata": {},
   "outputs": [],
   "source": [
    "import rospy\n",
    "import sys\n",
    "import select\n",
    "import actionlib\n",
    "import actionlib.msg\n",
    "import ipywidgets as widgets\n",
    "\n",
    "from IPython.display import display\n",
    "from nav_msgs.msg import Odometry # Import message type of /odom topic\n",
    "from geometry_msgs.msg import PoseStamped\n",
    "from ros_robot_sim_pkg.msg import PlanningAction, PlanningGoal, PlanningFeedback # Import action message type\n",
    "from ros_robot_sim_pkg.msg import PosVel # Import custom message type"
   ]
  },
  {
   "cell_type": "markdown",
   "id": "6009fbc0",
   "metadata": {},
   "source": [
    "### Initialization"
   ]
  },
  {
   "cell_type": "code",
   "execution_count": 2,
   "id": "26f8214f",
   "metadata": {},
   "outputs": [],
   "source": [
    "# Initialize node\n",
    "rospy.init_node('node_jupyter')\n",
    "\n",
    "# Create an action-client for /reaching_goal server\n",
    "action_client = actionlib.SimpleActionClient('/reaching_goal', PlanningAction)\n",
    "\n",
    "# Create the goal message to send to the action-server\n",
    "goal = PlanningGoal()"
   ]
  },
  {
   "cell_type": "markdown",
   "id": "a7091230",
   "metadata": {},
   "source": [
    "### Creation of Widgets"
   ]
  },
  {
   "cell_type": "code",
   "execution_count": 3,
   "id": "0474b30e",
   "metadata": {},
   "outputs": [],
   "source": [
    "# Widget for X coordinate input \n",
    "x_input = widgets.FloatText(description = 'Target X (flt):')\n",
    "\n",
    "# Widget for Y coordinate input \n",
    "y_input = widgets.FloatText(description = 'Target Y (flt):')\n",
    "\n",
    "# Widget for entering the X Y coordinates\n",
    "send_button = widgets.Button(description = 'Send Target')\n",
    "\n",
    "# Widget for cancelling the goal\n",
    "cancel_button = widgets.Button(description = 'Cancel Target')\n",
    "\n",
    "# Widget for displaying Sent or Cancelled target confirmation\n",
    "output_send_cancel = widgets.Output()\n",
    "\n",
    "# Widget for displaying Current position and Status of robot\n",
    "robot_info = widgets.Textarea(description = 'Robot Info:', disabled = True, \n",
    "                              layout = widgets.Layout(height = '80px', width = '350px')) "
   ]
  },
  {
   "cell_type": "markdown",
   "id": "1fc587c9",
   "metadata": {},
   "source": [
    "### Function for sending the goal coordinates"
   ]
  },
  {
   "cell_type": "code",
   "execution_count": 4,
   "id": "fa178076",
   "metadata": {},
   "outputs": [],
   "source": [
    "def send_goal(_):\n",
    "    # Get X and Y coordinate from user input\n",
    "    goal_x = x_input.value\n",
    "    goal_y = y_input.value\n",
    "    \n",
    "    # Allocate the X and Y goal coordinates in the PlanningGoal() action message\n",
    "    goal.target_pose.pose.position.x = goal_x\n",
    "    goal.target_pose.pose.position.y = goal_y\n",
    "\n",
    "    # Send the goal to the action-server and receive its feedback (actual pose and state)\n",
    "    action_client.send_goal(goal)\n",
    "\n",
    "    with output_send_cancel:\n",
    "        print(f'Target coordinates sent!: ({goal_x}, {goal_y})')"
   ]
  },
  {
   "cell_type": "markdown",
   "id": "8e3d5d8b",
   "metadata": {},
   "source": [
    "### Function for cancelling current goal"
   ]
  },
  {
   "cell_type": "code",
   "execution_count": 5,
   "id": "8a903cd5",
   "metadata": {},
   "outputs": [],
   "source": [
    "def cancel_target(_):\n",
    "    # Cancel current goal\n",
    "    action_client.cancel_goal()\n",
    "\n",
    "    with output_send_cancel:\n",
    "        print('Goal cancelled!')"
   ]
  },
  {
   "cell_type": "markdown",
   "id": "89d4d5d1",
   "metadata": {},
   "source": [
    "### Function for displaying robot feedback"
   ]
  },
  {
   "cell_type": "code",
   "execution_count": 6,
   "id": "333e22ed",
   "metadata": {},
   "outputs": [],
   "source": [
    "def feedback_callback(feedback_msg):\n",
    "    # Allocate X and Y positions and Status obtained from /reaching_goal/feedback in variables \n",
    "    current_x = feedback_msg.feedback.actual_pose.position.x\n",
    "    current_y = feedback_msg.feedback.actual_pose.position.y\n",
    "    status = feedback_msg.feedback.stat\n",
    "    \n",
    "    # Save X and Y positions and Status as entries of widget\n",
    "    robot_info.value = f\"CURRENT X: {current_x} \\nCURRENT Y: {current_y} \\nSTATUS: {status}\""
   ]
  },
  {
   "cell_type": "markdown",
   "id": "f2cafdcc",
   "metadata": {},
   "source": [
    "### Subscribers"
   ]
  },
  {
   "cell_type": "code",
   "execution_count": 7,
   "id": "839a38b9",
   "metadata": {},
   "outputs": [],
   "source": [
    "# Create a subscriber for the action-server feedback for having current position and status\n",
    "subscriber = rospy.Subscriber('/reaching_goal/feedback', PlanningFeedback, feedback_callback) "
   ]
  },
  {
   "cell_type": "markdown",
   "id": "eadc175d",
   "metadata": {},
   "source": [
    "### Main"
   ]
  },
  {
   "cell_type": "code",
   "execution_count": 8,
   "id": "88856239",
   "metadata": {},
   "outputs": [
    {
     "data": {
      "application/vnd.jupyter.widget-view+json": {
       "model_id": "21e23f611c774b0ca2a1343a946d7185",
       "version_major": 2,
       "version_minor": 0
      },
      "text/plain": [
       "VBox(children=(HBox(children=(FloatText(value=0.0, description='Target X (flt):'), FloatText(value=0.0, descri…"
      ]
     },
     "metadata": {},
     "output_type": "display_data"
    }
   ],
   "source": [
    "# Call send_goal() when send_button is pressed\n",
    "send_button.on_click(send_goal)\n",
    "\n",
    "# Call cancel_goal() when cancel_button is pressed\n",
    "cancel_button.on_click(cancel_target)\n",
    "\n",
    "# Display widgets\n",
    "display(widgets.VBox([widgets.HBox([x_input, y_input, send_button]), \n",
    "                      widgets.HBox([cancel_button, robot_info]), output_send_cancel]))\n",
    "\n",
    "# Stop node when Jupyter shuts down\n",
    "rospy.on_shutdown(rospy.signal_shutdown)"
   ]
  },
  {
   "cell_type": "code",
   "execution_count": null,
   "id": "782a8571",
   "metadata": {},
   "outputs": [],
   "source": []
  }
 ],
 "metadata": {
  "kernelspec": {
   "display_name": "Python 3 (ipykernel)",
   "language": "python",
   "name": "python3"
  },
  "language_info": {
   "codemirror_mode": {
    "name": "ipython",
    "version": 3
   },
   "file_extension": ".py",
   "mimetype": "text/x-python",
   "name": "python",
   "nbconvert_exporter": "python",
   "pygments_lexer": "ipython3",
   "version": "3.8.10"
  },
  "varInspector": {
   "cols": {
    "lenName": 16,
    "lenType": 16,
    "lenVar": 40
   },
   "kernels_config": {
    "python": {
     "delete_cmd_postfix": "",
     "delete_cmd_prefix": "del ",
     "library": "var_list.py",
     "varRefreshCmd": "print(var_dic_list())"
    },
    "r": {
     "delete_cmd_postfix": ") ",
     "delete_cmd_prefix": "rm(",
     "library": "var_list.r",
     "varRefreshCmd": "cat(var_dic_list()) "
    }
   },
   "types_to_exclude": [
    "module",
    "function",
    "builtin_function_or_method",
    "instance",
    "_Feature"
   ],
   "window_display": false
  }
 },
 "nbformat": 4,
 "nbformat_minor": 5
}
