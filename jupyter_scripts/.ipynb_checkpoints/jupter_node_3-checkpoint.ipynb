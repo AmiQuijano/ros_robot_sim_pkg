{
 "cells": [
  {
   "cell_type": "markdown",
   "id": "94705aee",
   "metadata": {},
   "source": [
    "# Research Track 2 - Assignment 2\n",
    "## Jupyter on Node (a) of ros_robot_sim_pkg\n",
    "### Ami Sofia Quijano Shimizu"
   ]
  },
  {
   "cell_type": "markdown",
   "id": "14d42bce",
   "metadata": {},
   "source": [
    "### This Notebook contains:\n",
    "* An interface to assign (or cancel) goals to the robot\n",
    "* Visualization of current robot position, log information, sent targets, cancelled targets and reached targets\n",
    "* A plot with the robot’s position and targets’ positions in the environment\n",
    "* A plot for the number of reached/not-reached targets"
   ]
  },
  {
   "cell_type": "markdown",
   "id": "a5bb4156",
   "metadata": {},
   "source": [
    "### Useful imports"
   ]
  },
  {
   "cell_type": "code",
   "execution_count": null,
   "id": "e41f8152",
   "metadata": {},
   "outputs": [],
   "source": [
    "import rospy\n",
    "import actionlib\n",
    "import actionlib.msg\n",
    "import ipywidgets as widgets\n",
    "import matplotlib.pyplot as plt\n",
    "import numpy as np\n",
    "\n",
    "from matplotlib.animation import FuncAnimation\n",
    "from IPython.display import display\n",
    "from nav_msgs.msg import Odometry\n",
    "from ros_robot_sim_pkg.msg import PlanningAction, PlanningGoal, PlanningFeedback \n",
    "\n",
    "%matplotlib notebook"
   ]
  },
  {
   "cell_type": "markdown",
   "id": "a52575ba",
   "metadata": {},
   "source": [
    "### Creation of Widgets"
   ]
  },
  {
   "cell_type": "code",
   "execution_count": null,
   "id": "4c326b8e",
   "metadata": {},
   "outputs": [],
   "source": [
    "# Widget for X coordinate input \n",
    "x_input = widgets.BoundedFloatText(min = -9.0, max = 9.0, description = 'Target X (flt):', \n",
    "                            layout = widgets.Layout(height = '30px', width = '150px'))\n",
    "\n",
    "# Widget for Y coordinate input \n",
    "y_input = widgets.BoundedFloatText(min = -9.0, max = 9.0, description = 'Target Y (flt):',\n",
    "                           layout = widgets.Layout(height = '30px', width = '150px'))\n",
    "\n",
    "# Widget for entering the X Y coordinates\n",
    "send_button = widgets.Button(description = 'Send Target')\n",
    "\n",
    "# Widget for cancelling the goal\n",
    "cancel_button = widgets.Button(description = 'Cancel Target')\n",
    "\n",
    "# Widget for displaying user Log\n",
    "log_info = widgets.Text(description = 'Log info', disabled = True,\n",
    "                       layout = widgets.Layout(height = '30px', width = '270px'))\n",
    "\n",
    "# Widget for displaying Current position of robot\n",
    "robot_pos = widgets.Textarea(description = 'Robot Pos:', disabled = True, \n",
    "                              layout = widgets.Layout(height = '50px', width = '350px')) \n",
    "\n",
    "# Widget for displaying Targets sent\n",
    "sent_info = widgets.Textarea(description = 'Sent:', disabled = True, \n",
    "                              layout = widgets.Layout(height = '100px', width = '170px')) \n",
    "\n",
    "# Widget for displaying Targets cancelled\n",
    "cancelled_info = widgets.Textarea(description = 'Cancelled:', disabled = True, \n",
    "                              layout = widgets.Layout(height = '100px', width = '170px')) \n",
    "\n",
    "# Widget for displaying Targets reached\n",
    "reached_info = widgets.Textarea(description = 'Reached:', disabled = True, \n",
    "                              layout = widgets.Layout(height = '100px', width = '170px')) "
   ]
  },
  {
   "cell_type": "markdown",
   "id": "6bc2dbb1",
   "metadata": {},
   "source": [
    "### Function for sending goal coordinates"
   ]
  },
  {
   "cell_type": "code",
   "execution_count": null,
   "id": "f3e3f731",
   "metadata": {},
   "outputs": [],
   "source": [
    "def send_goal(b):\n",
    "    global mark_target, target_x, target_y\n",
    "    \n",
    "    # Allocate the X and Y goal coordinates in PlanningGoal() action message from user input\n",
    "    goal.target_pose.pose.position.x = x_input.value\n",
    "    goal.target_pose.pose.position.y = y_input.value\n",
    "\n",
    "    # Fill widgets with Log info and Sent target coordinates\n",
    "    log_info.value = 'Target coordinates sent!'\n",
    "    sent_info.value += f'({x_input.value}, {y_input.value})\\n'\n",
    "    \n",
    "    # Set target \n",
    "    mark_target = True\n",
    "    target_x = x_input.value\n",
    "    target_y = y_input.value\n",
    "    \n",
    "    # Send the goal to the action-server\n",
    "    action_client.send_goal(goal)"
   ]
  },
  {
   "cell_type": "markdown",
   "id": "369277f8",
   "metadata": {},
   "source": [
    "### Function for cancelling goal coordinates"
   ]
  },
  {
   "cell_type": "code",
   "execution_count": null,
   "id": "4811b865",
   "metadata": {},
   "outputs": [],
   "source": [
    "def cancel_target(b):\n",
    "    global target_active, targets_cancelled_count, mark_target\n",
    "    \n",
    "    # If moving towards target\n",
    "    if target_active:\n",
    "        # Add 1 to the total # of targets cancelled\n",
    "        targets_cancelled_count += 1\n",
    "        \n",
    "        # Fill widgets with Log info and Cancelled target coordinates\n",
    "        log_info.value = 'Target cancelled!'\n",
    "        cancelled_info.value += f'({x_input.value}, {y_input.value})\\n'\n",
    "        \n",
    "        mark_target = False\n",
    "        \n",
    "        # Cancel current goal\n",
    "        action_client.cancel_goal()\n",
    "    \n",
    "    # If not moving towards target (was cancelled or reached), fill widget with Log info\n",
    "    else:\n",
    "        log_info.value = 'No active target to cancel'"
   ]
  },
  {
   "cell_type": "markdown",
   "id": "423c33d5",
   "metadata": {},
   "source": [
    "### Callback function of /reaching_goal/feedback"
   ]
  },
  {
   "cell_type": "code",
   "execution_count": null,
   "id": "4e8084f3",
   "metadata": {},
   "outputs": [],
   "source": [
    "def feedback_callback(feedback_msg):\n",
    "    global targets_reached_count, target_active, mark_target\n",
    "    \n",
    "    status = feedback_msg.feedback.stat\n",
    "    \n",
    "    # If target has been reached,\n",
    "    if status == 'Target reached!':\n",
    "        # Set flag as False\n",
    "        target_active = False\n",
    "        \n",
    "        # Add 1 to the total # of targets reached\n",
    "        targets_reached_count += 1\n",
    "        \n",
    "        # Fill widgets with Log info and Reached target coordinates\n",
    "        log_info.value = status\n",
    "        reached_info.value += f'({x_input.value}, {y_input.value})\\n'\n",
    "        \n",
    "        mark_target = False\n",
    "        \n",
    "    # If target has been cancelled, set flag as False\n",
    "    elif status == 'Target cancelled!':\n",
    "        target_active = False\n",
    "    \n",
    "    # If target is still being reached by robot, set flag as True\n",
    "    else:\n",
    "        target_active = True"
   ]
  },
  {
   "cell_type": "markdown",
   "id": "cae09a5d",
   "metadata": {},
   "source": [
    "### Plots initialization, setup and update"
   ]
  },
  {
   "cell_type": "code",
   "execution_count": null,
   "id": "e6c32a36",
   "metadata": {},
   "outputs": [],
   "source": [
    "class Visualiser:\n",
    "    \n",
    "    def __init__(self):\n",
    "        self.fig, (self.ax1, self.ax2) = plt.subplots(1,2) # Create 2 plots horizontally\n",
    "        \n",
    "        # Line plot: trajectory\n",
    "        self.ln, = self.ax1.plot([], [], 'ro', linewidth = 0.5)\n",
    "        self.x_coord, self.y_coord = [] , []\n",
    "        \n",
    "        # Initialize target marker\n",
    "        self.marker = None\n",
    "        \n",
    "        # Bar plot: reached vs cancelled targets\n",
    "        self.bar_labels = ['Reached', 'Cancelled']\n",
    "        self.bar_data = [targets_reached_count, targets_cancelled_count]\n",
    "        self.bar = self.ax2.bar(self.bar_labels, self.bar_data, color = ['green', 'red'])\n",
    "        \n",
    "    def plot_init(self):\n",
    "        # Line plot: trajectory\n",
    "        self.ax1.set_title('Robot Trajectory', fontsize = 10)\n",
    "        self.ax1.set_xlabel('X')\n",
    "        self.ax1.set_ylabel('Y')\n",
    "        self.ax1.set_xlim(-10, 10)\n",
    "        self.ax1.set_ylim(-10, 10)\n",
    "        self.ax1.grid(True)\n",
    "        \n",
    "        # Bar plot: reached vs cancelled targets   \n",
    "        self.ax2.set_title('Reached vs Cancelled Targets', fontsize = 10)\n",
    "        self.ax2.set_ylabel('Count', fontsize = 9)\n",
    "        self.ax2.grid(True)\n",
    "        self.ax2.tick_params(axis='both', which='major', labelsize = 9)\n",
    "        self.ax2.set_ylim(0, 5.5)\n",
    "\n",
    "        return self.ln, \n",
    "\n",
    "    def update_plots(self, frame):\n",
    "        # Line plot: trajectory\n",
    "        self.ln.set_data(self.x_coord, self.y_coord)\n",
    "       \n",
    "        # Update target marker\n",
    "        if mark_target:  # If mark_target is True\n",
    "            if self.marker is None:  # If target marker doesn't exist, create it\n",
    "                self.marker, = self.ax1.plot(x_input.value, y_input.value, 'rx', markersize=10)\n",
    "            else:  # If target marker exists, update its position\n",
    "                self.marker.set_data(target_x, target_y)\n",
    "        elif self.marker is not None:  # If mark_target is False and target marker exists, remove it\n",
    "            self.marker.remove()\n",
    "            self.marker = None\n",
    "        \n",
    "        # Bar plot: reached vs cancelled targets  \n",
    "        max_count = max(targets_reached_count, targets_cancelled_count)\n",
    "        max_height = max(5, max_count)\n",
    "        self.ax2.set_ylim(0, max_height*1.1)\n",
    "        tick_interval = max(1, max_height//5)\n",
    "        self.ax2.yaxis.set_major_locator(plt.MultipleLocator(tick_interval)) \n",
    "        self.bar[0].set_height(targets_reached_count)\n",
    "        self.bar[1].set_height(targets_cancelled_count)\n",
    "    \n",
    "        return self.bar, self.ln\n",
    "    \n",
    "    def odom_callback(self, msg):\n",
    "        self.x_coord.append(msg.pose.pose.position.x)\n",
    "        self.y_coord.append(msg.pose.pose.position.y)\n",
    "        \n",
    "        # Allocate X and Y positions and Status obtained from /reaching_goal/feedback\n",
    "        pos_x = msg.pose.pose.position.x\n",
    "        pos_y = msg.pose.pose.position.y\n",
    "\n",
    "        # Fill widget with Robot's X and Y positions\n",
    "        robot_pos.value = f\"CURRENT X: {pos_x} \\nCURRENT Y: {pos_y}\"  "
   ]
  },
  {
   "cell_type": "markdown",
   "id": "9cc9f162",
   "metadata": {},
   "source": [
    "### Initialization of Variables"
   ]
  },
  {
   "cell_type": "code",
   "execution_count": null,
   "id": "1c59c806",
   "metadata": {},
   "outputs": [],
   "source": [
    "# Create the goal object of Planning to send to the action-server\n",
    "goal = PlanningGoal()\n",
    "\n",
    "# Initialize counters for reached and cancelled targets\n",
    "targets_reached_count = 0\n",
    "targets_cancelled_count = 0\n",
    "\n",
    "# Initialize flag: indicates if robot is still reaching the target or not anymore\n",
    "target_active = False\n",
    "\n",
    "# \n",
    "mark_target = False\n",
    "target_x = []\n",
    "target_y = []"
   ]
  },
  {
   "cell_type": "markdown",
   "id": "3b5ad9b5",
   "metadata": {},
   "source": [
    "### Initialization of ROS, Service and Subscribers"
   ]
  },
  {
   "cell_type": "code",
   "execution_count": null,
   "id": "22c0b205",
   "metadata": {},
   "outputs": [],
   "source": [
    "# Initialize ROS node\n",
    "rospy.init_node('node_jupyter')\n",
    "\n",
    "# Create an action-client for /reaching_goal server with action message Planning\n",
    "action_client = actionlib.SimpleActionClient('/reaching_goal', PlanningAction)\n",
    "\n",
    "# Create a subscriber for the action-server feedback for having current position and status\n",
    "subscriber1 = rospy.Subscriber('/reaching_goal/feedback', PlanningFeedback, feedback_callback) "
   ]
  },
  {
   "cell_type": "markdown",
   "id": "6f317d22",
   "metadata": {},
   "source": [
    "\n",
    "### Display and Activate Widgets and Plots"
   ]
  },
  {
   "cell_type": "code",
   "execution_count": null,
   "id": "b48ae8d8",
   "metadata": {},
   "outputs": [],
   "source": [
    "# Initialize Class\n",
    "vis = Visualiser()\n",
    "\n",
    "# Subscribe to /odom topic\n",
    "subscriber2 = rospy.Subscriber('/odom', Odometry, vis.odom_callback) \n",
    "\n",
    "# Call send_goal() when send_button is pressed\n",
    "send_button.on_click(send_goal)\n",
    "\n",
    "# Call cancel_goal() when cancel_button is pressed\n",
    "cancel_button.on_click(cancel_target)\n",
    "\n",
    "# Create the animation\n",
    "ani = FuncAnimation(vis.fig, vis.update_plots, init_func=vis.plot_init, cache_frame_data=False)\n",
    "plt.show(block=True)\n",
    "\n",
    "# Display widgets\n",
    "display(widgets.VBox([widgets.HBox([x_input, y_input, send_button, cancel_button]), \n",
    "                      widgets.HBox([log_info, robot_pos]),\n",
    "                      widgets.HBox([sent_info, cancelled_info, reached_info])])) "
   ]
  },
  {
   "cell_type": "code",
   "execution_count": null,
   "id": "f5059ac9",
   "metadata": {},
   "outputs": [],
   "source": []
  }
 ],
 "metadata": {
  "kernelspec": {
   "display_name": "Python 3 (ipykernel)",
   "language": "python",
   "name": "python3"
  },
  "language_info": {
   "codemirror_mode": {
    "name": "ipython",
    "version": 3
   },
   "file_extension": ".py",
   "mimetype": "text/x-python",
   "name": "python",
   "nbconvert_exporter": "python",
   "pygments_lexer": "ipython3",
   "version": "3.8.10"
  },
  "varInspector": {
   "cols": {
    "lenName": 16,
    "lenType": 16,
    "lenVar": 40
   },
   "kernels_config": {
    "python": {
     "delete_cmd_postfix": "",
     "delete_cmd_prefix": "del ",
     "library": "var_list.py",
     "varRefreshCmd": "print(var_dic_list())"
    },
    "r": {
     "delete_cmd_postfix": ") ",
     "delete_cmd_prefix": "rm(",
     "library": "var_list.r",
     "varRefreshCmd": "cat(var_dic_list()) "
    }
   },
   "types_to_exclude": [
    "module",
    "function",
    "builtin_function_or_method",
    "instance",
    "_Feature"
   ],
   "window_display": false
  }
 },
 "nbformat": 4,
 "nbformat_minor": 5
}
